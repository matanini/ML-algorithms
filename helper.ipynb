{
 "cells": [
  {
   "cell_type": "code",
   "execution_count": 1,
   "metadata": {},
   "outputs": [],
   "source": [
    "import pandas as pd\n",
    "from gnb import GNB\n",
    "\n",
    "train_filepath = 'data/iris_train_set.csv'\n",
    "test_filepath = 'data/iris_test_set.csv'\n",
    "\n",
    "train_data = pd.read_csv(train_filepath)\n",
    "test_data = pd.read_csv(test_filepath)\n",
    "\n"
   ]
  },
  {
   "cell_type": "code",
   "execution_count": 2,
   "metadata": {},
   "outputs": [
    {
     "name": "stdout",
     "output_type": "stream",
     "text": [
      "(120, 4)\n",
      "(120,)\n",
      "(30, 4)\n",
      "(30,)\n"
     ]
    }
   ],
   "source": [
    "ytrain = train_data['iris_type']\n",
    "Xtrain = train_data.drop(['iris_type'], axis=1)\n",
    "ytest = test_data['iris_type']\n",
    "Xtest = test_data.drop(['iris_type'], axis=1)\n",
    "\n",
    "print(Xtrain.shape)\n",
    "print(ytrain.shape)\n",
    "print(Xtest.shape)\n",
    "print(ytest.shape)"
   ]
  },
  {
   "cell_type": "code",
   "execution_count": 3,
   "metadata": {},
   "outputs": [],
   "source": [
    "gnb = GNB()"
   ]
  },
  {
   "cell_type": "code",
   "execution_count": 4,
   "metadata": {},
   "outputs": [],
   "source": [
    "gnb.fit(Xtrain, ytrain)"
   ]
  },
  {
   "cell_type": "code",
   "execution_count": 5,
   "metadata": {},
   "outputs": [],
   "source": [
    "ypred = gnb.predict(Xtest)"
   ]
  },
  {
   "cell_type": "code",
   "execution_count": 6,
   "metadata": {},
   "outputs": [
    {
     "data": {
      "text/plain": [
       "1.0"
      ]
     },
     "execution_count": 6,
     "metadata": {},
     "output_type": "execute_result"
    }
   ],
   "source": [
    "gnb.calc_accuracy(ypred, ytest)"
   ]
  },
  {
   "cell_type": "code",
   "execution_count": 7,
   "metadata": {},
   "outputs": [],
   "source": [
    "from knn import KNN\n",
    "knn = KNN(3,'euclidean','t-disribution')"
   ]
  },
  {
   "cell_type": "code",
   "execution_count": 8,
   "metadata": {},
   "outputs": [],
   "source": [
    "knn.fit(Xtrain, ytrain)"
   ]
  },
  {
   "cell_type": "code",
   "execution_count": 9,
   "metadata": {},
   "outputs": [],
   "source": [
    "pred = knn.predict(Xtest)"
   ]
  },
  {
   "cell_type": "code",
   "execution_count": 10,
   "metadata": {},
   "outputs": [
    {
     "data": {
      "text/plain": [
       "1.0"
      ]
     },
     "execution_count": 10,
     "metadata": {},
     "output_type": "execute_result"
    }
   ],
   "source": [
    "knn.calc_accuracy(ypred, ytest)"
   ]
  },
  {
   "cell_type": "code",
   "execution_count": 11,
   "metadata": {},
   "outputs": [],
   "source": [
    "from kmeans import KMeans\n",
    "kmeans = KMeans(3,init='kmeans++',scaling='minmax', change_val = 0.0001)"
   ]
  },
  {
   "cell_type": "code",
   "execution_count": 12,
   "metadata": {},
   "outputs": [
    {
     "name": "stdout",
     "output_type": "stream",
     "text": [
      "[(0, array([0.58823529, 0.77966102]))]\n",
      "[0.58823529 0.77966102] [0.5       0.6779661]\n",
      "[0.58823529 0.77966102] [0.61764706 0.77966102]\n",
      "[0.58823529 0.77966102] [1.         0.86440678]\n",
      "[0.58823529 0.77966102] [0.52941176 0.61016949]\n",
      "[0.58823529 0.77966102] [0.73529412 0.76271186]\n",
      "[0.58823529 0.77966102] [0.52941176 0.50847458]\n",
      "[0.58823529 0.77966102] [0.58823529 0.66101695]\n",
      "[0.58823529 0.77966102] [0.5        0.59322034]\n",
      "[0.58823529 0.77966102] [0.64705882 0.71186441]\n",
      "[0.58823529 0.77966102] [0.73529412 0.83050847]\n",
      "[0.58823529 0.77966102] [0.52941176 0.66101695]\n",
      "[0.58823529 0.77966102] [0.23529412 0.08474576]\n",
      "[0.58823529 0.77966102] [0.02941176 0.05084746]\n",
      "[0.58823529 0.77966102] [0.20588235 0.38983051]\n",
      "[0.58823529 0.77966102] [0.23529412 0.11864407]\n",
      "[0.58823529 0.77966102] [0.58823529 0.69491525]\n",
      "[0.58823529 0.77966102] [0.14705882 0.10169492]\n",
      "[0.58823529 0.77966102] [0.5        0.69491525]\n",
      "[0.58823529 0.77966102] [0.17647059 0.06779661]\n",
      "[0.58823529 0.77966102] [0.05882353 0.05084746]\n",
      "[0.58823529 0.77966102] [0.35294118 0.45762712]\n",
      "[0.58823529 0.77966102] [0.76470588 0.79661017]\n",
      "[0.58823529 0.77966102] [0.20588235 0.10169492]\n",
      "[0.58823529 0.77966102] [0.11764706 0.05084746]\n",
      "[0.58823529 0.77966102] [0.38235294 0.44067797]\n",
      "[0.58823529 0.77966102] [0.5        0.50847458]\n",
      "[0.58823529 0.77966102] [0.58823529 0.62711864]\n",
      "[0.58823529 0.77966102] [0.44117647 0.52542373]\n",
      "[0.58823529 0.77966102] [0.20588235 0.06779661]\n",
      "[0.58823529 0.77966102] [0.52941176 0.62711864]\n",
      "[0.58823529 0.77966102] [0.41176471 0.42372881]\n",
      "[0.58823529 0.77966102] [0.64705882 0.61016949]\n",
      "[0.58823529 0.77966102] [0.17647059 0.59322034]\n",
      "[0.58823529 0.77966102] [0.35294118 0.57627119]\n",
      "[0.58823529 0.77966102] [0.70588235 0.71186441]\n",
      "[0.58823529 0.77966102] [0.44117647 0.03389831]\n",
      "[0.58823529 0.77966102] [0.76470588 0.69491525]\n",
      "[0.58823529 0.77966102] [0.61764706 0.59322034]\n",
      "[0.58823529 0.77966102] [0.76470588 0.74576271]\n",
      "[0.58823529 0.77966102] [0.47058824 0.6440678 ]\n",
      "[0.58823529 0.77966102] [0.55882353 0.55932203]\n",
      "[0.58823529 0.77966102] [0.41176471 0.59322034]\n",
      "[0.58823529 0.77966102] [0.26470588 0.08474576]\n",
      "[0.58823529 0.77966102] [0.64705882 0.81355932]\n",
      "[0.58823529 0.77966102] [0.58823529 0.77966102]\n",
      "[0.58823529 0.77966102] [0.41176471 0.11864407]\n",
      "[0.58823529 0.77966102] [0.70588235 0.81355932]\n",
      "[0.58823529 0.77966102] [0.23529412 0.33898305]\n",
      "[0.58823529 0.77966102] [0.14705882 0.06779661]\n",
      "[0.58823529 0.77966102] [0.55882353 0.59322034]\n",
      "[0.58823529 0.77966102] [0.61764706 0.72881356]\n",
      "[0.58823529 0.77966102] [0.44117647 0.49152542]\n",
      "[0.58823529 0.77966102] [0.91176471 0.86440678]\n",
      "[0.58823529 0.77966102] [0.26470588 0.08474576]\n",
      "[0.58823529 0.77966102] [0.35294118 0.06779661]\n",
      "[0.58823529 0.77966102] [0.47058824 0.69491525]\n",
      "[0.58823529 0.77966102] [0.55882353 0.6440678 ]\n",
      "[0.58823529 0.77966102] [0.08823529 0.08474576]\n",
      "[0.58823529 0.77966102] [0.38235294 0.59322034]\n",
      "[0.58823529 0.77966102] [0.08823529 0.06779661]\n",
      "[0.58823529 0.77966102] [0.17647059 0.08474576]\n",
      "[0.58823529 0.77966102] [0.67647059 0.57627119]\n",
      "[0.58823529 0.77966102] [0.32352941 0.05084746]\n",
      "[0.58823529 0.77966102] [0.17647059 0.38983051]\n",
      "[0.58823529 0.77966102] [0.55882353 0.74576271]\n",
      "[0.58823529 0.77966102] [0.20588235 0.10169492]\n",
      "[0.58823529 0.77966102] [0.58823529 0.57627119]\n",
      "[0.58823529 0.77966102] [0.41176471 0.52542373]\n",
      "[0.58823529 0.77966102] [0.38235294 0.66101695]\n",
      "[0.58823529 0.77966102] [0.23529412 0.06779661]\n",
      "[0.58823529 0.77966102] [0.41176471 0.54237288]\n",
      "[0.58823529 0.77966102] [0.20588235 0.42372881]\n",
      "[0.58823529 0.77966102] [0.14705882 0.15254237]\n",
      "[0.58823529 0.77966102] [1. 1.]\n",
      "[0.58823529 0.77966102] [0.58823529 0.66101695]\n",
      "[0.58823529 0.77966102] [0.23529412 0.06779661]\n",
      "[0.58823529 0.77966102] [0.64705882 0.76271186]\n",
      "[0.58823529 0.77966102] [0.58823529 0.6779661 ]\n",
      "[0.58823529 0.77966102] [0.02941176 0.05084746]\n",
      "[0.58823529 0.77966102] [0.70588235 0.6779661 ]\n",
      "[0.58823529 0.77966102] [0.32352941 0.08474576]\n",
      "[0.58823529 0.77966102] [0.20588235 0.05084746]\n",
      "[0.58823529 0.77966102] [0.70588235 0.79661017]\n",
      "[0.58823529 0.77966102] [1.         0.96610169]\n",
      "[0.58823529 0.77966102] [0.41176471 0.6779661 ]\n",
      "[0.58823529 0.77966102] [0.08823529 0.06779661]\n",
      "[0.58823529 0.77966102] [0.11764706 0.10169492]\n",
      "[0.58823529 0.77966102] [0.20588235 0.08474576]\n",
      "[0.58823529 0.77966102] [0.14705882 0.10169492]\n",
      "[0.58823529 0.77966102] [0.29411765 0.08474576]\n",
      "[0.58823529 0.77966102] [0.52941176 0.77966102]\n",
      "[0.58823529 0.77966102] [0.5       0.6440678]\n",
      "[0.58823529 0.77966102] [0.35294118 0.05084746]\n",
      "[0.58823529 0.77966102] [0.85294118 0.84745763]\n",
      "[0.58823529 0.77966102] [0.79411765 0.62711864]\n",
      "[0.58823529 0.77966102] [0.41176471 0.08474576]\n",
      "[0.58823529 0.77966102] [0.         0.01694915]\n",
      "[0.58823529 0.77966102] [0.64705882 0.69491525]\n",
      "[0.58823529 0.77966102] [0.44117647 0.69491525]\n",
      "[0.58823529 0.77966102] [0.61764706 0.72881356]\n",
      "[0.58823529 0.77966102] [0.52941176 0.62711864]\n",
      "[0.58823529 0.77966102] [0.5        0.59322034]\n",
      "[0.58823529 0.77966102] [0.44117647 0.69491525]\n",
      "[0.58823529 0.77966102] [0.17647059 0.06779661]\n",
      "[0.58823529 0.77966102] [0.67647059 0.61016949]\n",
      "[0.58823529 0.77966102] [0.82352941 0.83050847]\n",
      "[0.58823529 0.77966102] [0.61764706 0.55932203]\n",
      "[0.58823529 0.77966102] [0.76470588 0.66101695]\n",
      "[0.58823529 0.77966102] [0.02941176 0.06779661]\n",
      "[0.58823529 0.77966102] [0.41176471 0.54237288]\n",
      "[0.58823529 0.77966102] [0.23529412 0.08474576]\n",
      "[0.58823529 0.77966102] [0.47058824 0.54237288]\n",
      "[0.58823529 0.77966102] [0.32352941 0.08474576]\n",
      "[0.58823529 0.77966102] [0.38235294 0.54237288]\n",
      "[0.58823529 0.77966102] [0.88235294 0.89830508]\n",
      "[0.58823529 0.77966102] [0.58823529 0.84745763]\n",
      "[0.58823529 0.77966102] [0.70588235 0.79661017]\n",
      "[0.58823529 0.77966102] [0.23529412 0.10169492]\n",
      "[0.58823529 0.77966102] [0.17647059 0.08474576]\n",
      "[0.58823529 0.77966102] [0.08823529 0.        ]\n"
     ]
    },
    {
     "ename": "IndexError",
     "evalue": "invalid index to scalar variable.",
     "output_type": "error",
     "traceback": [
      "\u001b[1;31m---------------------------------------------------------------------------\u001b[0m",
      "\u001b[1;31mIndexError\u001b[0m                                Traceback (most recent call last)",
      "\u001b[1;32m~\\AppData\\Local\\Temp/ipykernel_17388/1922493257.py\u001b[0m in \u001b[0;36m<module>\u001b[1;34m\u001b[0m\n\u001b[1;32m----> 1\u001b[1;33m \u001b[0mkmeans\u001b[0m\u001b[1;33m.\u001b[0m\u001b[0mfit\u001b[0m\u001b[1;33m(\u001b[0m\u001b[0mXtrain\u001b[0m\u001b[1;33m.\u001b[0m\u001b[0mloc\u001b[0m\u001b[1;33m[\u001b[0m\u001b[1;33m:\u001b[0m\u001b[1;33m,\u001b[0m\u001b[1;33m[\u001b[0m\u001b[1;34m'sepal length (cm)'\u001b[0m\u001b[1;33m,\u001b[0m \u001b[1;34m'petal length (cm)'\u001b[0m\u001b[1;33m]\u001b[0m\u001b[1;33m]\u001b[0m\u001b[1;33m)\u001b[0m\u001b[1;33m\u001b[0m\u001b[1;33m\u001b[0m\u001b[0m\n\u001b[0m",
      "\u001b[1;32mc:\\Users\\matan\\Documents\\GitHub\\ML-algorithms\\kmeans.py\u001b[0m in \u001b[0;36mfit\u001b[1;34m(self, Xtrain)\u001b[0m\n\u001b[0;32m     25\u001b[0m                 \u001b[0mself\u001b[0m\u001b[1;33m.\u001b[0m\u001b[0mXtrain\u001b[0m \u001b[1;33m=\u001b[0m \u001b[0mself\u001b[0m\u001b[1;33m.\u001b[0m\u001b[0m__scale_t_distribution\u001b[0m\u001b[1;33m(\u001b[0m\u001b[0mself\u001b[0m\u001b[1;33m.\u001b[0m\u001b[0mXtrain\u001b[0m\u001b[1;33m)\u001b[0m\u001b[1;33m\u001b[0m\u001b[1;33m\u001b[0m\u001b[0m\n\u001b[0;32m     26\u001b[0m \u001b[1;33m\u001b[0m\u001b[0m\n\u001b[1;32m---> 27\u001b[1;33m         \u001b[0mself\u001b[0m\u001b[1;33m.\u001b[0m\u001b[0m__get_prototypes\u001b[0m\u001b[1;33m(\u001b[0m\u001b[1;33m)\u001b[0m\u001b[1;33m\u001b[0m\u001b[1;33m\u001b[0m\u001b[0m\n\u001b[0m\u001b[0;32m     28\u001b[0m         \u001b[0mself\u001b[0m\u001b[1;33m.\u001b[0m\u001b[0mpred\u001b[0m \u001b[1;33m=\u001b[0m \u001b[0mpd\u001b[0m\u001b[1;33m.\u001b[0m\u001b[0mSeries\u001b[0m\u001b[1;33m(\u001b[0m\u001b[0mindex\u001b[0m\u001b[1;33m=\u001b[0m\u001b[0mXtrain\u001b[0m\u001b[1;33m.\u001b[0m\u001b[0mindex\u001b[0m\u001b[1;33m)\u001b[0m\u001b[1;33m\u001b[0m\u001b[1;33m\u001b[0m\u001b[0m\n\u001b[0;32m     29\u001b[0m         \u001b[1;32mwhile\u001b[0m \u001b[1;32mTrue\u001b[0m\u001b[1;33m:\u001b[0m\u001b[1;33m\u001b[0m\u001b[1;33m\u001b[0m\u001b[0m\n",
      "\u001b[1;32mc:\\Users\\matan\\Documents\\GitHub\\ML-algorithms\\kmeans.py\u001b[0m in \u001b[0;36m__get_prototypes\u001b[1;34m(self)\u001b[0m\n\u001b[0;32m     83\u001b[0m                             \u001b[0mdist_list\u001b[0m\u001b[1;33m.\u001b[0m\u001b[0mappend\u001b[0m\u001b[1;33m(\u001b[0m\u001b[0mself\u001b[0m\u001b[1;33m.\u001b[0m\u001b[0m__calculate_distance\u001b[0m\u001b[1;33m(\u001b[0m\u001b[0mprototype\u001b[0m\u001b[1;33m,\u001b[0m\u001b[0mfeature_vector\u001b[0m\u001b[1;33m)\u001b[0m\u001b[1;33m)\u001b[0m\u001b[1;33m\u001b[0m\u001b[1;33m\u001b[0m\u001b[0m\n\u001b[0;32m     84\u001b[0m                         \u001b[0mdist_to_prototype\u001b[0m\u001b[1;33m.\u001b[0m\u001b[0mappend\u001b[0m\u001b[1;33m(\u001b[0m\u001b[0msum\u001b[0m\u001b[1;33m(\u001b[0m\u001b[0mdist_list\u001b[0m\u001b[1;33m)\u001b[0m \u001b[1;33m/\u001b[0m \u001b[0mlen\u001b[0m\u001b[1;33m(\u001b[0m\u001b[0mdist_list\u001b[0m\u001b[1;33m)\u001b[0m\u001b[1;33m)\u001b[0m\u001b[1;33m\u001b[0m\u001b[1;33m\u001b[0m\u001b[0m\n\u001b[1;32m---> 85\u001b[1;33m                     \u001b[0mprototypes\u001b[0m\u001b[1;33m[\u001b[0m\u001b[0mi\u001b[0m\u001b[1;33m]\u001b[0m \u001b[1;33m=\u001b[0m \u001b[0msorted\u001b[0m\u001b[1;33m(\u001b[0m\u001b[0mdist_to_prototype\u001b[0m\u001b[1;33m,\u001b[0m \u001b[0mkey\u001b[0m \u001b[1;33m=\u001b[0m \u001b[1;32mlambda\u001b[0m \u001b[0mx\u001b[0m\u001b[1;33m:\u001b[0m\u001b[0mx\u001b[0m\u001b[1;33m[\u001b[0m\u001b[1;36m1\u001b[0m\u001b[1;33m]\u001b[0m\u001b[1;33m)\u001b[0m\u001b[1;33m[\u001b[0m\u001b[1;36m0\u001b[0m\u001b[1;33m]\u001b[0m\u001b[1;33m[\u001b[0m\u001b[1;36m1\u001b[0m\u001b[1;33m]\u001b[0m\u001b[1;33m\u001b[0m\u001b[1;33m\u001b[0m\u001b[0m\n\u001b[0m\u001b[0;32m     86\u001b[0m \u001b[1;33m\u001b[0m\u001b[0m\n\u001b[0;32m     87\u001b[0m             \u001b[0mself\u001b[0m\u001b[1;33m.\u001b[0m\u001b[0mprototypes\u001b[0m \u001b[1;33m=\u001b[0m \u001b[0mprototypes\u001b[0m\u001b[1;33m\u001b[0m\u001b[1;33m\u001b[0m\u001b[0m\n",
      "\u001b[1;32mc:\\Users\\matan\\Documents\\GitHub\\ML-algorithms\\kmeans.py\u001b[0m in \u001b[0;36m<lambda>\u001b[1;34m(x)\u001b[0m\n\u001b[0;32m     83\u001b[0m                             \u001b[0mdist_list\u001b[0m\u001b[1;33m.\u001b[0m\u001b[0mappend\u001b[0m\u001b[1;33m(\u001b[0m\u001b[0mself\u001b[0m\u001b[1;33m.\u001b[0m\u001b[0m__calculate_distance\u001b[0m\u001b[1;33m(\u001b[0m\u001b[0mprototype\u001b[0m\u001b[1;33m,\u001b[0m\u001b[0mfeature_vector\u001b[0m\u001b[1;33m)\u001b[0m\u001b[1;33m)\u001b[0m\u001b[1;33m\u001b[0m\u001b[1;33m\u001b[0m\u001b[0m\n\u001b[0;32m     84\u001b[0m                         \u001b[0mdist_to_prototype\u001b[0m\u001b[1;33m.\u001b[0m\u001b[0mappend\u001b[0m\u001b[1;33m(\u001b[0m\u001b[0msum\u001b[0m\u001b[1;33m(\u001b[0m\u001b[0mdist_list\u001b[0m\u001b[1;33m)\u001b[0m \u001b[1;33m/\u001b[0m \u001b[0mlen\u001b[0m\u001b[1;33m(\u001b[0m\u001b[0mdist_list\u001b[0m\u001b[1;33m)\u001b[0m\u001b[1;33m)\u001b[0m\u001b[1;33m\u001b[0m\u001b[1;33m\u001b[0m\u001b[0m\n\u001b[1;32m---> 85\u001b[1;33m                     \u001b[0mprototypes\u001b[0m\u001b[1;33m[\u001b[0m\u001b[0mi\u001b[0m\u001b[1;33m]\u001b[0m \u001b[1;33m=\u001b[0m \u001b[0msorted\u001b[0m\u001b[1;33m(\u001b[0m\u001b[0mdist_to_prototype\u001b[0m\u001b[1;33m,\u001b[0m \u001b[0mkey\u001b[0m \u001b[1;33m=\u001b[0m \u001b[1;32mlambda\u001b[0m \u001b[0mx\u001b[0m\u001b[1;33m:\u001b[0m\u001b[0mx\u001b[0m\u001b[1;33m[\u001b[0m\u001b[1;36m1\u001b[0m\u001b[1;33m]\u001b[0m\u001b[1;33m)\u001b[0m\u001b[1;33m[\u001b[0m\u001b[1;36m0\u001b[0m\u001b[1;33m]\u001b[0m\u001b[1;33m[\u001b[0m\u001b[1;36m1\u001b[0m\u001b[1;33m]\u001b[0m\u001b[1;33m\u001b[0m\u001b[1;33m\u001b[0m\u001b[0m\n\u001b[0m\u001b[0;32m     86\u001b[0m \u001b[1;33m\u001b[0m\u001b[0m\n\u001b[0;32m     87\u001b[0m             \u001b[0mself\u001b[0m\u001b[1;33m.\u001b[0m\u001b[0mprototypes\u001b[0m \u001b[1;33m=\u001b[0m \u001b[0mprototypes\u001b[0m\u001b[1;33m\u001b[0m\u001b[1;33m\u001b[0m\u001b[0m\n",
      "\u001b[1;31mIndexError\u001b[0m: invalid index to scalar variable."
     ]
    }
   ],
   "source": [
    "kmeans.fit(Xtrain.loc[:,['sepal length (cm)', 'petal length (cm)']])"
   ]
  },
  {
   "cell_type": "code",
   "execution_count": null,
   "metadata": {},
   "outputs": [],
   "source": [
    "pred = kmeans.predict(Xtest.loc[:,['sepal length (cm)', 'petal length (cm)']])\n",
    "pred"
   ]
  },
  {
   "cell_type": "code",
   "execution_count": null,
   "metadata": {},
   "outputs": [],
   "source": [
    "kmeans.silhouette_score()"
   ]
  },
  {
   "cell_type": "code",
   "execution_count": null,
   "metadata": {},
   "outputs": [],
   "source": [
    "import seaborn as sns\n",
    "\n"
   ]
  },
  {
   "cell_type": "code",
   "execution_count": null,
   "metadata": {},
   "outputs": [],
   "source": [
    "f = sns.scatterplot(data = Xtest, x='sepal length (cm)', y='petal length (cm)', c=pred)"
   ]
  },
  {
   "cell_type": "code",
   "execution_count": null,
   "metadata": {},
   "outputs": [],
   "source": [
    "f = sns.scatterplot(data = Xtrain, x='sepal length (cm)', y='petal length (cm)',c=kmeans.pred)"
   ]
  },
  {
   "cell_type": "code",
   "execution_count": null,
   "metadata": {},
   "outputs": [],
   "source": [
    "from sklearn.datasets import make_blobs\n",
    "import matplotlib.pyplot as plt\n",
    "\n",
    "X, y_true = make_blobs(n_samples=500, centers=6,\n",
    "                       cluster_std=0.60, random_state=0)\n"
   ]
  },
  {
   "cell_type": "code",
   "execution_count": null,
   "metadata": {},
   "outputs": [],
   "source": [
    "X = pd.DataFrame(X)\n",
    "X"
   ]
  },
  {
   "cell_type": "code",
   "execution_count": null,
   "metadata": {},
   "outputs": [],
   "source": [
    "clf = KMeans(6)\n",
    "clf.fit(X)\n",
    "plt.scatter(X.iloc[:, 0], X.iloc[:, 1], s=50,c=clf.pred)"
   ]
  },
  {
   "cell_type": "code",
   "execution_count": null,
   "metadata": {},
   "outputs": [],
   "source": []
  },
  {
   "cell_type": "code",
   "execution_count": null,
   "metadata": {},
   "outputs": [],
   "source": [
    "plt.scatter(X.iloc[:, 0], X.iloc[:, 1], s=50,c=y_true)"
   ]
  },
  {
   "cell_type": "code",
   "execution_count": null,
   "metadata": {},
   "outputs": [],
   "source": []
  },
  {
   "cell_type": "code",
   "execution_count": null,
   "metadata": {},
   "outputs": [],
   "source": []
  }
 ],
 "metadata": {
  "kernelspec": {
   "display_name": "Python 3.10.0 64-bit",
   "language": "python",
   "name": "python3"
  },
  "language_info": {
   "codemirror_mode": {
    "name": "ipython",
    "version": 3
   },
   "file_extension": ".py",
   "mimetype": "text/x-python",
   "name": "python",
   "nbconvert_exporter": "python",
   "pygments_lexer": "ipython3",
   "version": "3.10.0"
  },
  "orig_nbformat": 4,
  "vscode": {
   "interpreter": {
    "hash": "8d8353be1dd092e57b3f2779bafc40fd4a1c87861698b48ff47a5f1df7325f59"
   }
  }
 },
 "nbformat": 4,
 "nbformat_minor": 2
}
