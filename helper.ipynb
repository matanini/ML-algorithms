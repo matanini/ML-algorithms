{
 "cells": [
  {
   "cell_type": "code",
   "execution_count": 1,
   "metadata": {},
   "outputs": [],
   "source": [
    "import pandas as pd\n",
    "from preprocessing import Scaler\n",
    "from sklearn.preprocessing import MinMaxScaler, StandardScaler"
   ]
  },
  {
   "cell_type": "markdown",
   "metadata": {},
   "source": [
    "First we will import the CSV data - we will use the famous Iris dataset.  \n",
    "We will also devide the train and test datasets and get X,y values for both."
   ]
  },
  {
   "cell_type": "code",
   "execution_count": 2,
   "metadata": {},
   "outputs": [],
   "source": [
    "train_filepath = 'data/iris_train_set.csv'\n",
    "test_filepath = 'data/iris_test_set.csv'\n",
    "\n",
    "train_data = pd.read_csv(train_filepath)\n",
    "test_data = pd.read_csv(test_filepath)"
   ]
  },
  {
   "cell_type": "code",
   "execution_count": 3,
   "metadata": {},
   "outputs": [
    {
     "name": "stdout",
     "output_type": "stream",
     "text": [
      "Size of Xtrain: (120, 4)\n",
      "Size of ytrain: (120,)\n",
      "Size of Xtest: (30, 4)\n",
      "Size of ytest: (30,)\n"
     ]
    }
   ],
   "source": [
    "ytrain = train_data['iris_type']\n",
    "Xtrain = train_data.drop(['iris_type'], axis=1)\n",
    "ytest = test_data['iris_type']\n",
    "Xtest = test_data.drop(['iris_type'], axis=1)\n",
    "\n",
    "print(\"Size of Xtrain:\", Xtrain.shape)\n",
    "print(\"Size of ytrain:\", ytrain.shape)\n",
    "print(\"Size of Xtest:\", Xtest.shape)\n",
    "print(\"Size of ytest:\", ytest.shape)"
   ]
  },
  {
   "cell_type": "markdown",
   "metadata": {},
   "source": [
    "Now, lets scale the data using my scaler and sklearn Scaler, and compare the result"
   ]
  },
  {
   "cell_type": "code",
   "execution_count": 4,
   "metadata": {},
   "outputs": [],
   "source": [
    "sklearn_scaler = MinMaxScaler().fit_transform(Xtrain)\n",
    "sklearn_scaler = pd.DataFrame(sklearn_scaler, columns = Xtrain.columns)\n",
    "my_scaler = Scaler('minmax').fit_transform(Xtrain)"
   ]
  },
  {
   "cell_type": "code",
   "execution_count": 5,
   "metadata": {},
   "outputs": [
    {
     "name": "stdout",
     "output_type": "stream",
     "text": [
      "All values are matching\n"
     ]
    }
   ],
   "source": [
    "correct = True\n",
    "for i in range(sklearn_scaler.shape[0]):\n",
    "    for j in range(sklearn_scaler.shape[1]):\n",
    "\n",
    "        if round(sklearn_scaler.iloc[i,j],10) != round(my_scaler.iloc[i,j],10) :\n",
    "            correct = False\n",
    "            print(\"Wrong value at:\", i,j)\n",
    "\n",
    "if correct:\n",
    "    print(\"All values are matching\")"
   ]
  },
  {
   "cell_type": "markdown",
   "metadata": {},
   "source": [
    "Define comparing function:"
   ]
  },
  {
   "cell_type": "code",
   "execution_count": 6,
   "metadata": {},
   "outputs": [],
   "source": [
    "def compare(vec1, vec2):\n",
    "        \"\"\"\n",
    "        Comparing between two vector of same length\\n\n",
    "        Can be used to determine accuracy between prediction and actual test values. \n",
    "        \"\"\"\n",
    "\n",
    "        if len(vec1) != len(vec2):\n",
    "                raise ValueError(\"Length of vectors must be the same\")\n",
    "                \n",
    "        correct = (vec1 == vec2).sum()\n",
    "        accuracy = correct / vec2.shape[0]\n",
    "        return accuracy"
   ]
  },
  {
   "cell_type": "markdown",
   "metadata": {},
   "source": [
    "Good!  \n",
    "Now lets try the ML algorithms :"
   ]
  },
  {
   "cell_type": "markdown",
   "metadata": {},
   "source": [
    "For all algorithms, I will train both mine and sklearn models and compare using comapre() function defined above."
   ]
  },
  {
   "cell_type": "markdown",
   "metadata": {},
   "source": [
    "### GNB"
   ]
  },
  {
   "cell_type": "code",
   "execution_count": 7,
   "metadata": {},
   "outputs": [],
   "source": [
    "from sklearn.naive_bayes import GaussianNB\n",
    "from models import GNB"
   ]
  },
  {
   "cell_type": "code",
   "execution_count": 8,
   "metadata": {},
   "outputs": [
    {
     "data": {
      "text/plain": [
       "GaussianNB()"
      ]
     },
     "execution_count": 8,
     "metadata": {},
     "output_type": "execute_result"
    }
   ],
   "source": [
    "my_gnb = GNB()\n",
    "my_gnb.fit(Xtrain, ytrain)\n",
    "\n",
    "sklearn_gnb = GaussianNB()\n",
    "sklearn_gnb.fit(Xtrain, ytrain)"
   ]
  },
  {
   "cell_type": "code",
   "execution_count": 9,
   "metadata": {},
   "outputs": [
    {
     "name": "stdout",
     "output_type": "stream",
     "text": [
      "Some info from my GNB: \n",
      "\n",
      "Class list:  [0, 1, 2]\n",
      "Class priors:  [0.3416666666666667, 0.325, 0.3333333333333333]\n",
      "\n",
      "---------------------Mean Likelihood----------------------\n",
      "  sepal length (cm) sepal width (cm) petal length (cm) petal width (cm)\n",
      "0          0.200861         0.588415          0.075651         0.058943\n",
      "1          0.488688         0.325855          0.555845         0.511752\n",
      "2          0.648529          0.39375           0.75678         0.796875\n",
      "\n",
      "---------------------Std Likelihood----------------------\n",
      "  sepal length (cm) sepal width (cm) petal length (cm) petal width (cm)\n",
      "0          0.110618         0.164885          0.027617         0.043676\n",
      "1          0.146844         0.134463           0.08494          0.08862\n",
      "2          0.176339         0.131067           0.08965         0.112908\n"
     ]
    }
   ],
   "source": [
    "print(\"Some info from my GNB: \\n\")\n",
    "print(\"Class list: \", my_gnb.cls_list)\n",
    "print(\"Class priors: \", my_gnb.cls_priors)\n",
    "print(\"\\n---------------------Mean Likelihood----------------------\")\n",
    "print(my_gnb.mean_likelihood)\n",
    "print(\"\\n---------------------Std Likelihood----------------------\")\n",
    "print(my_gnb.std_likelihood)"
   ]
  },
  {
   "cell_type": "code",
   "execution_count": 10,
   "metadata": {},
   "outputs": [],
   "source": [
    "my_pred = my_gnb.predict(Xtest)\n",
    "sklearn_pred = sklearn_gnb.predict(Xtest)"
   ]
  },
  {
   "cell_type": "code",
   "execution_count": 11,
   "metadata": {},
   "outputs": [
    {
     "name": "stdout",
     "output_type": "stream",
     "text": [
      "my_pred accuracy:  0.03333333333333333\n",
      "sklearn_pred accuracy:  0.3333333333333333\n",
      "Accuracy between my_pred and sklearn_pred:  0.26666666666666666\n"
     ]
    }
   ],
   "source": [
    "print(\"my_pred accuracy: \",compare(my_pred, ytest))\n",
    "print(\"sklearn_pred accuracy: \",compare(sklearn_pred, ytest))\n",
    "print(\"Accuracy between my_pred and sklearn_pred: \",compare(my_pred, sklearn_pred))"
   ]
  },
  {
   "cell_type": "markdown",
   "metadata": {},
   "source": [
    "### KNN"
   ]
  },
  {
   "cell_type": "code",
   "execution_count": 12,
   "metadata": {},
   "outputs": [],
   "source": [
    "from models import KNN\n",
    "from sklearn.neighbors import KNeighborsClassifier"
   ]
  },
  {
   "cell_type": "code",
   "execution_count": 13,
   "metadata": {},
   "outputs": [],
   "source": [
    "my_knn = KNN(neighbors = 3, distance_metric = 'euclidean')\n",
    "sklearn_knn = KNeighborsClassifier(3,p=2)"
   ]
  },
  {
   "cell_type": "code",
   "execution_count": 14,
   "metadata": {},
   "outputs": [
    {
     "data": {
      "text/plain": [
       "KNeighborsClassifier(n_neighbors=3)"
      ]
     },
     "execution_count": 14,
     "metadata": {},
     "output_type": "execute_result"
    }
   ],
   "source": [
    "my_knn.fit(Xtrain, ytrain)\n",
    "sklearn_knn.fit(Xtrain, ytrain)"
   ]
  },
  {
   "cell_type": "code",
   "execution_count": 15,
   "metadata": {},
   "outputs": [],
   "source": [
    "my_pred = my_knn.predict(Xtest)\n",
    "sklearn_pred = sklearn_knn.predict(Xtest)"
   ]
  },
  {
   "cell_type": "code",
   "execution_count": 16,
   "metadata": {},
   "outputs": [
    {
     "name": "stdout",
     "output_type": "stream",
     "text": [
      "my_pred accuracy:  0.3333333333333333\n",
      "sklearn_pred accuracy:  0.3333333333333333\n",
      "Accuracy between my_pred and sklearn_pred:  1.0\n"
     ]
    }
   ],
   "source": [
    "print(\"my_pred accuracy: \",compare(my_pred, ytest))\n",
    "print(\"sklearn_pred accuracy: \",compare(sklearn_pred, ytest))\n",
    "print(\"Accuracy between my_pred and sklearn_pred: \",compare(my_pred, sklearn_pred))"
   ]
  },
  {
   "cell_type": "markdown",
   "metadata": {},
   "source": [
    "### KMeans"
   ]
  },
  {
   "cell_type": "code",
   "execution_count": 17,
   "metadata": {},
   "outputs": [],
   "source": [
    "from models import KMeans \n",
    "from sklearn.cluster import KMeans as SL_KMeans\n",
    "import seaborn as sns\n",
    "from sklearn.datasets import make_blobs\n",
    "import matplotlib.pyplot as plt"
   ]
  },
  {
   "cell_type": "markdown",
   "metadata": {},
   "source": [
    "We will create random blobs on a graph and run the algorithm to find clusters"
   ]
  },
  {
   "cell_type": "code",
   "execution_count": 18,
   "metadata": {},
   "outputs": [
    {
     "data": {
      "image/png": "[encoded data removed]",
      "text/plain": [
       "<Figure size 432x288 with 1 Axes>"
      ]
     },
     "metadata": {
      "needs_background": "light"
     },
     "output_type": "display_data"
    }
   ],
   "source": [
    "centers = 5\n",
    "\n",
    "X_train, true_labels = make_blobs(n_samples=100, centers=centers, random_state=23)\n",
    "X_train = StandardScaler().fit_transform(X_train)\n",
    "\n",
    "sns.scatterplot(x=[X[0] for X in X_train],\n",
    "                y=[X[1] for X in X_train],\n",
    "                # hue=true_labels,\n",
    "                palette=\"deep\",\n",
    "                legend=None\n",
    "                )\n",
    "                \n",
    "plt.xlabel(\"x\")\n",
    "plt.ylabel(\"y\")\n",
    "plt.show()"
   ]
  },
  {
   "cell_type": "markdown",
   "metadata": {},
   "source": [
    "I will run my KMeans algorithm and use style to seperate between the clusters "
   ]
  },
  {
   "cell_type": "code",
   "execution_count": 22,
   "metadata": {},
   "outputs": [
    {
     "data": {
      "image/png": "[encoded data removed]",
      "text/plain": [
       "<Figure size 432x288 with 1 Axes>"
      ]
     },
     "metadata": {
      "needs_background": "light"
     },
     "output_type": "display_data"
    }
   ],
   "source": [
    "kmeans = KMeans(n_clusters=centers)\n",
    "kmeans.fit(X_train)\n",
    "\n",
    "# View results\n",
    "class_centers, classification = kmeans.evaluate()\n",
    "sns.scatterplot(x=[X[0] for X in X_train],\n",
    "                y=[X[1] for X in X_train],\n",
    "                hue=classification,\n",
    "                style=classification,\n",
    "                palette=\"deep\",\n",
    "                legend=None\n",
    "                )\n",
    "plt.plot([x for x, _ in kmeans.centroids],\n",
    "         [y for _, y in kmeans.centroids],\n",
    "         '+',\n",
    "         markersize=10,\n",
    "         )\n",
    "plt.show()"
   ]
  },
  {
   "cell_type": "markdown",
   "metadata": {},
   "source": [
    "We can see we found our 5 centers using KMeans! "
   ]
  },
  {
   "cell_type": "markdown",
   "metadata": {},
   "source": [
    "Good job! :)"
   ]
  }
 ],
 "metadata": {
  "kernelspec": {
   "display_name": "Python 3.10.0 64-bit",
   "language": "python",
   "name": "python3"
  },
  "language_info": {
   "codemirror_mode": {
    "name": "ipython",
    "version": 3
   },
   "file_extension": ".py",
   "mimetype": "text/x-python",
   "name": "python",
   "nbconvert_exporter": "python",
   "pygments_lexer": "ipython3",
   "version": "3.10.0"
  },
  "orig_nbformat": 4,
  "vscode": {
   "interpreter": {
    "hash": "8d8353be1dd092e57b3f2779bafc40fd4a1c87861698b48ff47a5f1df7325f59"
   }
  }
 },
 "nbformat": 4,
 "nbformat_minor": 2
}
