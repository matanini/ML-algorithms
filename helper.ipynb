{
 "cells": [
  {
   "cell_type": "code",
   "execution_count": null,
   "metadata": {},
   "outputs": [],
   "source": [
    "import pandas as pd\n",
    "from Models import GNB\n",
    "\n",
    "train_filepath = 'data/iris_train_set.csv'\n",
    "test_filepath = 'data/iris_test_set.csv'\n",
    "\n",
    "train_data = pd.read_csv(train_filepath)\n",
    "test_data = pd.read_csv(test_filepath)\n",
    "\n"
   ]
  },
  {
   "cell_type": "code",
   "execution_count": null,
   "metadata": {},
   "outputs": [],
   "source": [
    "ytrain = train_data['iris_type']\n",
    "Xtrain = train_data.drop(['iris_type'], axis=1)\n",
    "ytest = test_data['iris_type']\n",
    "Xtest = test_data.drop(['iris_type'], axis=1)\n",
    "\n",
    "print(Xtrain.shape)\n",
    "print(ytrain.shape)\n",
    "print(Xtest.shape)\n",
    "print(ytest.shape)"
   ]
  },
  {
   "cell_type": "code",
   "execution_count": null,
   "metadata": {},
   "outputs": [],
   "source": [
    "from preprocessing import Scaler\n",
    "from sklearn.preprocessing import MinMaxScaler"
   ]
  },
  {
   "cell_type": "code",
   "execution_count": null,
   "metadata": {},
   "outputs": [],
   "source": [
    "scaler1_ = MinMaxScaler().fit_transform(Xtrain)\n",
    "scaler1_ = pd.DataFrame(scaler1_, columns = Xtrain.columns)\n",
    "scaler1_"
   ]
  },
  {
   "cell_type": "code",
   "execution_count": null,
   "metadata": {},
   "outputs": [],
   "source": [
    "scaler1 = Scaler('minmax').fit_transform(Xtrain)\n",
    "scaler1"
   ]
  },
  {
   "cell_type": "code",
   "execution_count": null,
   "metadata": {},
   "outputs": [],
   "source": [
    "for i in range(scaler1.shape[0]):\n",
    "    for j in range(scaler1.shape[1]):\n",
    "\n",
    "        if round(scaler1.iloc[i,j],10) != round(scaler1_.iloc[i,j],10) :\n",
    "            print(i,j)"
   ]
  },
  {
   "cell_type": "code",
   "execution_count": null,
   "metadata": {},
   "outputs": [],
   "source": [
    "scaler2 = Scaler('t-distribution').fit_transform(Xtrain)\n",
    "scaler2"
   ]
  },
  {
   "cell_type": "code",
   "execution_count": null,
   "metadata": {},
   "outputs": [],
   "source": [
    "for col in Xtrain.columns:\n",
    "    print(scaler1[col].max(), scaler1[col].min())\n",
    "    print(scaler1_[col].max(), scaler1_[col].min())\n",
    "# for col in Xtrain.columns:\n",
    "#     print(scaler2[col].mean(), scaler2[col].std())"
   ]
  },
  {
   "cell_type": "code",
   "execution_count": null,
   "metadata": {},
   "outputs": [],
   "source": [
    "gnb = GNB()\n",
    "gnb.fit(Xtrain, ytrain)"
   ]
  },
  {
   "cell_type": "code",
   "execution_count": null,
   "metadata": {},
   "outputs": [],
   "source": [
    "ytrain[ytrain == 0].shape[0]/ytrain.shape[0]"
   ]
  },
  {
   "cell_type": "code",
   "execution_count": null,
   "metadata": {},
   "outputs": [],
   "source": [
    "print(gnb.cls_list)\n",
    "print(gnb.cls_priors)"
   ]
  },
  {
   "cell_type": "code",
   "execution_count": null,
   "metadata": {},
   "outputs": [],
   "source": [
    "print(\"---------------------mean----------------------\")\n",
    "print(gnb.mean_likelihood)\n",
    "print(\"---------------------std----------------------\")\n",
    "print(gnb.std_likelihood)"
   ]
  },
  {
   "cell_type": "code",
   "execution_count": null,
   "metadata": {},
   "outputs": [],
   "source": [
    "ypred = gnb.predict(Xtest)"
   ]
  },
  {
   "cell_type": "code",
   "execution_count": null,
   "metadata": {},
   "outputs": [],
   "source": [
    "gnb.calc_accuracy(ypred, ytest)"
   ]
  },
  {
   "cell_type": "code",
   "execution_count": null,
   "metadata": {},
   "outputs": [],
   "source": [
    "from sklearn.naive_bayes import GaussianNB\n",
    "clf = GaussianNB()"
   ]
  },
  {
   "cell_type": "code",
   "execution_count": null,
   "metadata": {},
   "outputs": [],
   "source": [
    "clf.fit(Xtrain, ytrain)\n",
    "y_pred2 = clf.predict(Xtrain)"
   ]
  },
  {
   "cell_type": "code",
   "execution_count": null,
   "metadata": {},
   "outputs": [],
   "source": [
    "gnb.calc_accuracy(y_pred2, ytrain)"
   ]
  },
  {
   "cell_type": "code",
   "execution_count": null,
   "metadata": {},
   "outputs": [],
   "source": []
  },
  {
   "cell_type": "code",
   "execution_count": null,
   "metadata": {},
   "outputs": [],
   "source": [
    "from Models import KNN\n",
    "knn = KNN(3,'euclidean','t-disribution')"
   ]
  },
  {
   "cell_type": "code",
   "execution_count": null,
   "metadata": {},
   "outputs": [],
   "source": [
    "knn.fit(Xtrain, ytrain)"
   ]
  },
  {
   "cell_type": "code",
   "execution_count": null,
   "metadata": {},
   "outputs": [],
   "source": [
    "pred = knn.predict(Xtest)"
   ]
  },
  {
   "cell_type": "code",
   "execution_count": null,
   "metadata": {},
   "outputs": [],
   "source": [
    "knn.calc_accuracy(ypred, ytest)"
   ]
  },
  {
   "cell_type": "code",
   "execution_count": null,
   "metadata": {},
   "outputs": [],
   "source": [
    "from Models import KMeans\n",
    "import seaborn as sns\n",
    "from sklearn.datasets import make_blobs\n",
    "import matplotlib.pyplot as plt\n",
    "from sklearn.preprocessing import StandardScaler\n",
    "centers = 5\n",
    "\n",
    "X_train, true_labels = make_blobs(n_samples=100, centers=centers, random_state=42)\n",
    "X_train = StandardScaler().fit_transform(X_train)\n",
    "sns.scatterplot(x=[X[0] for X in X_train],\n",
    "                y=[X[1] for X in X_train],\n",
    "                hue=true_labels,\n",
    "                palette=\"deep\",\n",
    "                legend=None\n",
    "                )\n",
    "plt.xlabel(\"x\")\n",
    "plt.ylabel(\"y\")\n",
    "plt.show()"
   ]
  },
  {
   "cell_type": "code",
   "execution_count": null,
   "metadata": {},
   "outputs": [],
   "source": [
    "kmeans = KMeans(n_clusters=centers, init='kmeans++')\n",
    "kmeans.fit(X_train)\n",
    "# View results\n",
    "class_centers, classification = kmeans.evaluate()\n",
    "sns.scatterplot(x=[X[0] for X in X_train],\n",
    "                y=[X[1] for X in X_train],\n",
    "                hue=true_labels,\n",
    "                style=classification,\n",
    "                palette=\"deep\",\n",
    "                legend=None\n",
    "                )\n",
    "plt.plot([x for x, _ in kmeans.centroids],\n",
    "         [y for _, y in kmeans.centroids],\n",
    "         '+',\n",
    "         markersize=10,\n",
    "         )\n",
    "plt.show()"
   ]
  },
  {
   "cell_type": "code",
   "execution_count": null,
   "metadata": {},
   "outputs": [],
   "source": [
    "import numpy as np\n",
    "a = [1,2,3,5]\n",
    "np.not_equal(a,a).any()"
   ]
  },
  {
   "cell_type": "code",
   "execution_count": null,
   "metadata": {},
   "outputs": [],
   "source": [
    "import numpy as np\n",
    "from Models import Perceptron\n",
    "inputs = [1,10,5,46,9]\n",
    "weights = np.random.rand(5)\n",
    "bias = np.random.randint(0,10)\n",
    "print(inputs, weights, bias)"
   ]
  },
  {
   "cell_type": "code",
   "execution_count": null,
   "metadata": {},
   "outputs": [],
   "source": [
    "p = Perceptron(inputs, weights, bias, \"sign\", learning_const=0.1)\n",
    "str(p)"
   ]
  },
  {
   "cell_type": "code",
   "execution_count": null,
   "metadata": {},
   "outputs": [],
   "source": [
    "p.gradient_descent(0)\n",
    "p.weights"
   ]
  },
  {
   "cell_type": "code",
   "execution_count": null,
   "metadata": {},
   "outputs": [],
   "source": []
  },
  {
   "cell_type": "code",
   "execution_count": null,
   "metadata": {},
   "outputs": [],
   "source": [
    "print(p)"
   ]
  },
  {
   "cell_type": "code",
   "execution_count": null,
   "metadata": {},
   "outputs": [],
   "source": [
    "import numpy as np\n",
    "a = np.random.rand(5)\n",
    "a"
   ]
  },
  {
   "cell_type": "code",
   "execution_count": null,
   "metadata": {},
   "outputs": [],
   "source": [
    "(b *a).sum()"
   ]
  },
  {
   "cell_type": "code",
   "execution_count": null,
   "metadata": {},
   "outputs": [],
   "source": [
    "print(a, b)\n",
    "a = a+ 0*b\n",
    "print(a, b)\n"
   ]
  },
  {
   "cell_type": "code",
   "execution_count": null,
   "metadata": {},
   "outputs": [],
   "source": [
    "random_weights = np.random.rand(5)\n",
    "random_weights = [x if np.random.randint(4)!=2 else -x for x in random_weights]\n",
    "random_weights"
   ]
  },
  {
   "cell_type": "code",
   "execution_count": null,
   "metadata": {},
   "outputs": [],
   "source": [
    "a = np.array([1,2, None])\n",
    "print(a.size)\n",
    "print(a.all() == np.array(None))\n",
    "print(a.shape)"
   ]
  },
  {
   "cell_type": "code",
   "execution_count": 1,
   "metadata": {},
   "outputs": [],
   "source": [
    "first = 2\n",
    "second = 3\n",
    "from Models import ANN\n",
    "\n",
    "a = ANN((3,), \"sigmoid\")\n",
    "\n",
    "import pandas as pd\n",
    "\n",
    "y = pd.Series([1, 2, 2, 3])\n",
    "X = pd.DataFrame(\n",
    "    {\n",
    "        \"a\": [0.35, 1.7, -1, 0.2],\n",
    "        \"b\": [1, 5, 8, 1.6],\n",
    "        \"c\": [1.2, 5, -1.4, -3.6],\n",
    "        \"d\": [1, 5, 8, 1.6],\n",
    "        \"e\": [1.2, 5, -1.4, -3.6],\n",
    "    }\n",
    ")\n"
   ]
  },
  {
   "cell_type": "code",
   "execution_count": 2,
   "metadata": {},
   "outputs": [
    {
     "name": "stdout",
     "output_type": "stream",
     "text": [
      "[5, 3, 3]\n",
      "delta_weight:[0. 0. 0. 0. 0.]\n",
      " prev_delta_weights:[1. 1. 1. 1. 1.]\n",
      "weights:[ 0.8758214   0.24183712  0.51601535 -0.68247705  0.68986714]\n",
      "----\n",
      "delta_weight:[2.76781163e-05 7.90803322e-05 9.48963987e-05 7.90803322e-05\n",
      " 9.48963987e-05]\n",
      " prev_delta_weights:[0. 0. 0. 0. 0.]\n",
      "weights:[ 0.87584908  0.2419162   0.51611024 -0.68239797  0.68996204]\n",
      "----\n",
      "delta_weight:[0. 0. 0. 0. 0.]\n",
      " prev_delta_weights:[1. 1. 1. 1. 1.]\n",
      "weights:[-0.80873156 -0.35814318 -0.13170146  0.60585652  0.84123376]\n",
      "----\n",
      "delta_weight:[0.00021459 0.00061311 0.00073574 0.00061311 0.00073574]\n",
      " prev_delta_weights:[0. 0. 0. 0. 0.]\n",
      "weights:[-0.80851697 -0.35753006 -0.13096572  0.60646964  0.8419695 ]\n",
      "----\n",
      "delta_weight:[0. 0. 0. 0. 0.]\n",
      " prev_delta_weights:[1. 1. 1. 1. 1.]\n",
      "weights:[-0.19690737  0.29030027 -0.69562619 -0.04800579 -0.66946714]\n",
      "----\n",
      "delta_weight:[0.00043768 0.00125053 0.00150063 0.00125053 0.00150063]\n",
      " prev_delta_weights:[0. 0. 0. 0. 0.]\n",
      "weights:[-0.19646969  0.2915508  -0.69412555 -0.04675527 -0.6679665 ]\n",
      "----\n",
      "delta_weight:[0. 0. 0.]\n",
      " prev_delta_weights:[1. 1. 1.]\n",
      "weights:[-0.17989679  0.78465331 -0.20646174]\n",
      "----\n",
      "delta_weight:[3.19674704e-04 2.49061787e-04 6.80763169e-05]\n",
      " prev_delta_weights:[0. 0. 0.]\n",
      "weights:[-0.17957712  0.78490237 -0.20639367]\n",
      "----\n",
      "delta_weight:[0. 0. 0.]\n",
      " prev_delta_weights:[1. 1. 1.]\n",
      "weights:[0.32559135 0.91614314 0.83963775]\n",
      "----\n",
      "delta_weight:[1.85474732e-04 1.44505235e-04 3.94977660e-05]\n",
      " prev_delta_weights:[0. 0. 0.]\n",
      "weights:[0.32577682 0.91628765 0.83967724]\n",
      "----\n",
      "delta_weight:[0. 0. 0.]\n",
      " prev_delta_weights:[1. 1. 1.]\n",
      "weights:[0.38250379 0.28657378 0.13434988]\n",
      "----\n",
      "delta_weight:[0.0006553  0.00051055 0.00013955]\n",
      " prev_delta_weights:[0. 0. 0.]\n",
      "weights:[0.3831591  0.28708433 0.13448943]\n",
      "----\n",
      "[1,0] Perceptron output 0.7887057785448777, input:[0.90667159 0.70639699 0.19308022], weights:[-0.17925765  0.78515127 -0.20632564]\n",
      "\n",
      "[1,1] Perceptron output 0.8444202475966617, input:[0.90667159 0.70639699 0.19308022], weights:[0.32596222 0.91643209 0.83971673]\n",
      "\n",
      "[1,2] Perceptron output 0.6724955488554196, input:[0.90667159 0.70639699 0.19308022], weights:[0.38381374 0.28759437 0.13462884]\n",
      "\n",
      "[0,0] Perceptron output 0.9066715946032382, input:[0.35 1.   1.2  1.   1.2 ], weights:[ 0.87587674  0.24199523  0.51620508 -0.68231895  0.69005687]\n",
      "\n",
      "[0,1] Perceptron output 0.7063969860307834, input:[0.35 1.   1.2  1.   1.2 ], weights:[-0.80830311 -0.35691904 -0.1302325   0.60708066  0.84270272]\n",
      "\n",
      "[0,2] Perceptron output 0.19308022183209356, input:[0.35 1.   1.2  1.   1.2 ], weights:[-0.19603084  0.29280465 -0.69262093 -0.04550141 -0.66646187]\n",
      "\n"
     ]
    },
    {
     "ename": "IndexError",
     "evalue": "list index out of range",
     "output_type": "error",
     "traceback": [
      "\u001b[1;31m---------------------------------------------------------------------------\u001b[0m",
      "\u001b[1;31mIndexError\u001b[0m                                Traceback (most recent call last)",
      "\u001b[1;32m~\\AppData\\Local\\Temp/ipykernel_19604/9890799.py\u001b[0m in \u001b[0;36m<module>\u001b[1;34m\u001b[0m\n\u001b[1;32m----> 1\u001b[1;33m \u001b[0ma\u001b[0m\u001b[1;33m.\u001b[0m\u001b[0mfit\u001b[0m\u001b[1;33m(\u001b[0m\u001b[0mX\u001b[0m\u001b[1;33m,\u001b[0m\u001b[0my\u001b[0m\u001b[1;33m)\u001b[0m\u001b[1;33m\u001b[0m\u001b[1;33m\u001b[0m\u001b[0m\n\u001b[0m\u001b[0;32m      2\u001b[0m \u001b[0mprint\u001b[0m\u001b[1;33m(\u001b[0m\u001b[0ma\u001b[0m\u001b[1;33m)\u001b[0m\u001b[1;33m\u001b[0m\u001b[1;33m\u001b[0m\u001b[0m\n",
      "\u001b[1;32mc:\\Users\\matan\\Documents\\GitHub\\ML-algorithms\\Models\\ann.py\u001b[0m in \u001b[0;36mfit\u001b[1;34m(self, X, y)\u001b[0m\n\u001b[0;32m     55\u001b[0m                 \u001b[1;32mfor\u001b[0m \u001b[0mj\u001b[0m \u001b[1;32min\u001b[0m \u001b[0mrange\u001b[0m\u001b[1;33m(\u001b[0m\u001b[0mmax\u001b[0m\u001b[1;33m(\u001b[0m\u001b[0mself\u001b[0m\u001b[1;33m.\u001b[0m\u001b[0mvector_size_array\u001b[0m\u001b[1;33m)\u001b[0m\u001b[1;33m-\u001b[0m\u001b[1;36m1\u001b[0m\u001b[1;33m)\u001b[0m\u001b[1;33m:\u001b[0m\u001b[1;33m\u001b[0m\u001b[1;33m\u001b[0m\u001b[0m\n\u001b[0;32m     56\u001b[0m                     \u001b[1;32mif\u001b[0m \u001b[0mj\u001b[0m \u001b[1;33m<\u001b[0m \u001b[0mself\u001b[0m\u001b[1;33m.\u001b[0m\u001b[0mvector_size_array\u001b[0m\u001b[1;33m[\u001b[0m\u001b[0mi\u001b[0m\u001b[1;33m]\u001b[0m\u001b[1;33m:\u001b[0m\u001b[1;33m\u001b[0m\u001b[1;33m\u001b[0m\u001b[0m\n\u001b[1;32m---> 57\u001b[1;33m                         \u001b[0mprint\u001b[0m\u001b[1;33m(\u001b[0m\u001b[1;34mf\"[{i},{j}]\"\u001b[0m\u001b[1;33m,\u001b[0m\u001b[0mself\u001b[0m\u001b[1;33m.\u001b[0m\u001b[0mnetwork\u001b[0m\u001b[1;33m[\u001b[0m\u001b[0mi\u001b[0m\u001b[1;33m]\u001b[0m\u001b[1;33m[\u001b[0m\u001b[0mj\u001b[0m\u001b[1;33m]\u001b[0m\u001b[1;33m)\u001b[0m\u001b[1;33m\u001b[0m\u001b[1;33m\u001b[0m\u001b[0m\n\u001b[0m\u001b[0;32m     58\u001b[0m                     \u001b[1;31m# error_term[i] = error_term[j] * self.network[i][j].weights\u001b[0m\u001b[1;33m\u001b[0m\u001b[1;33m\u001b[0m\u001b[0m\n\u001b[0;32m     59\u001b[0m \u001b[1;33m\u001b[0m\u001b[0m\n",
      "\u001b[1;31mIndexError\u001b[0m: list index out of range"
     ]
    }
   ],
   "source": [
    "a.fit(X,y)\n",
    "print(a)"
   ]
  },
  {
   "cell_type": "code",
   "execution_count": null,
   "metadata": {},
   "outputs": [],
   "source": [
    "a.network[0][0].weights"
   ]
  },
  {
   "cell_type": "code",
   "execution_count": null,
   "metadata": {},
   "outputs": [],
   "source": [
    "import numpy as np\n",
    "np.array([[1]*6]*3)"
   ]
  },
  {
   "cell_type": "code",
   "execution_count": null,
   "metadata": {},
   "outputs": [],
   "source": [
    "a.output_layer"
   ]
  },
  {
   "cell_type": "code",
   "execution_count": null,
   "metadata": {},
   "outputs": [],
   "source": [
    "a.output_layer"
   ]
  },
  {
   "cell_type": "code",
   "execution_count": null,
   "metadata": {},
   "outputs": [],
   "source": [
    "import numpy as np\n",
    "import pandas as pd\n",
    "X = pd.Series(['a','b','a','a'])\n",
    "X"
   ]
  },
  {
   "cell_type": "code",
   "execution_count": null,
   "metadata": {},
   "outputs": [],
   "source": [
    "X.value_counts()['a']"
   ]
  },
  {
   "cell_type": "code",
   "execution_count": null,
   "metadata": {},
   "outputs": [],
   "source": [
    "-np.log2(0.5)*0.5*2"
   ]
  },
  {
   "cell_type": "code",
   "execution_count": null,
   "metadata": {},
   "outputs": [],
   "source": [
    "def calc_entropy(X :pd.Series):\n",
    "    val_count = X.value_counts()\n",
    "    entropy = 0\n",
    "    for val, count in val_count.items():\n",
    "        prob = count / X.shape[0]\n",
    "        entropy -= prob * np.log2(prob)\n",
    "    return entropy"
   ]
  },
  {
   "cell_type": "code",
   "execution_count": null,
   "metadata": {},
   "outputs": [],
   "source": [
    "a = ['young', 'young', 'middle', 'young', 'middle', 'old', 'young','old']\n",
    "b = ['yes','yes', 'yes','no','yes','no','no','no']\n",
    "X = pd.Series(a)\n",
    "Y = pd.Series(b)"
   ]
  },
  {
   "cell_type": "code",
   "execution_count": null,
   "metadata": {},
   "outputs": [],
   "source": [
    "print(\"Entropy of X:\", calc_entropy(X))\n",
    "print(\"Entropy of Y:\", calc_entropy(Y))"
   ]
  },
  {
   "cell_type": "code",
   "execution_count": null,
   "metadata": {},
   "outputs": [],
   "source": [
    "def specific_conditional_entropy(X :pd.DataFrame ,entropy_col, second_col, val):\n",
    "        return calc_entropy(X[X[second_col]==val][entropy_col])"
   ]
  },
  {
   "cell_type": "code",
   "execution_count": null,
   "metadata": {},
   "outputs": [],
   "source": [
    "df = pd.DataFrame({'X':X,'Y':Y})\n",
    "\n",
    "\n",
    "print(specific_conditional_entropy(df,'X','Y', 'yes'))\n",
    "print(specific_conditional_entropy(df,'X','Y', 'no'))\n"
   ]
  },
  {
   "cell_type": "code",
   "execution_count": null,
   "metadata": {},
   "outputs": [],
   "source": [
    "def conditional_entropy(df,x,y):\n",
    "    entropy = 0\n",
    "    for val, count in df[y].value_counts().items():\n",
    "        prob = count / df.shape[0]\n",
    "        entropy += prob * specific_conditional_entropy(df, x,y,val)\n",
    "    return entropy"
   ]
  },
  {
   "cell_type": "code",
   "execution_count": null,
   "metadata": {},
   "outputs": [],
   "source": []
  },
  {
   "cell_type": "code",
   "execution_count": null,
   "metadata": {},
   "outputs": [],
   "source": [
    "conditional_entropy(df,'Y','X')"
   ]
  },
  {
   "cell_type": "code",
   "execution_count": null,
   "metadata": {},
   "outputs": [],
   "source": [
    "df = pd.DataFrame({'x1':[1,0,1,0],'x2':[1,0,0,0], 'Y': ['pos','pos','neg','neg']})\n",
    "df"
   ]
  },
  {
   "cell_type": "code",
   "execution_count": null,
   "metadata": {},
   "outputs": [],
   "source": [
    "from Models import Perceptron, ANN\n",
    "a = ANN((1,0), \"sigmoid\")\n",
    "p = Perceptron(activation_func=\"sigmoid\")\n",
    "print(p)"
   ]
  },
  {
   "cell_type": "code",
   "execution_count": null,
   "metadata": {},
   "outputs": [],
   "source": [
    "p.set_weights(a.generate_init_weights(5))\n",
    "print(p)"
   ]
  },
  {
   "cell_type": "code",
   "execution_count": null,
   "metadata": {},
   "outputs": [],
   "source": [
    "p.set_inputs([1,4,1,5,6])\n",
    "print(p)"
   ]
  },
  {
   "cell_type": "code",
   "execution_count": null,
   "metadata": {},
   "outputs": [],
   "source": [
    "p.fit([0,1,1,0,0])"
   ]
  },
  {
   "cell_type": "code",
   "execution_count": null,
   "metadata": {},
   "outputs": [],
   "source": [
    "conditional_entropy(df,'Y','x2')"
   ]
  },
  {
   "cell_type": "code",
   "execution_count": null,
   "metadata": {},
   "outputs": [],
   "source": []
  }
 ],
 "metadata": {
  "kernelspec": {
   "display_name": "Python 3.10.0 64-bit",
   "language": "python",
   "name": "python3"
  },
  "language_info": {
   "codemirror_mode": {
    "name": "ipython",
    "version": 3
   },
   "file_extension": ".py",
   "mimetype": "text/x-python",
   "name": "python",
   "nbconvert_exporter": "python",
   "pygments_lexer": "ipython3",
   "version": "3.10.0"
  },
  "orig_nbformat": 4,
  "vscode": {
   "interpreter": {
    "hash": "8d8353be1dd092e57b3f2779bafc40fd4a1c87861698b48ff47a5f1df7325f59"
   }
  }
 },
 "nbformat": 4,
 "nbformat_minor": 2
}
