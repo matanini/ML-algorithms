{
 "cells": [
  {
   "cell_type": "code",
   "execution_count": 1,
   "metadata": {},
   "outputs": [],
   "source": [
    "import pandas as pd\n",
    "from gnb import GNB\n",
    "\n",
    "train_filepath = 'data/iris_train_set.csv'\n",
    "test_filepath = 'data/iris_test_set.csv'\n",
    "\n",
    "train_data = pd.read_csv(train_filepath)\n",
    "test_data = pd.read_csv(test_filepath)\n",
    "\n"
   ]
  },
  {
   "cell_type": "code",
   "execution_count": 2,
   "metadata": {},
   "outputs": [
    {
     "name": "stdout",
     "output_type": "stream",
     "text": [
      "(120, 4)\n",
      "(120,)\n",
      "(30, 4)\n",
      "(30,)\n"
     ]
    }
   ],
   "source": [
    "ytrain = train_data['iris_type']\n",
    "Xtrain = train_data.drop(['iris_type'], axis=1)\n",
    "ytest = test_data['iris_type']\n",
    "Xtest = test_data.drop(['iris_type'], axis=1)\n",
    "\n",
    "print(Xtrain.shape)\n",
    "print(ytrain.shape)\n",
    "print(Xtest.shape)\n",
    "print(ytest.shape)"
   ]
  },
  {
   "cell_type": "code",
   "execution_count": 3,
   "metadata": {},
   "outputs": [],
   "source": [
    "gnb = GNB()"
   ]
  },
  {
   "cell_type": "code",
   "execution_count": 4,
   "metadata": {},
   "outputs": [],
   "source": [
    "gnb.fit(Xtrain, ytrain)"
   ]
  },
  {
   "cell_type": "code",
   "execution_count": 5,
   "metadata": {},
   "outputs": [],
   "source": [
    "ypred = gnb.predict(Xtest)"
   ]
  },
  {
   "cell_type": "code",
   "execution_count": 6,
   "metadata": {},
   "outputs": [
    {
     "data": {
      "text/plain": [
       "1.0"
      ]
     },
     "execution_count": 6,
     "metadata": {},
     "output_type": "execute_result"
    }
   ],
   "source": [
    "gnb.calc_accuracy(ypred, ytest)"
   ]
  },
  {
   "cell_type": "code",
   "execution_count": 7,
   "metadata": {},
   "outputs": [],
   "source": [
    "from knn import KNN\n",
    "import pandas as pd\n",
    "knn = KNN(3,'euclidean','t-disribution')"
   ]
  },
  {
   "cell_type": "code",
   "execution_count": 8,
   "metadata": {},
   "outputs": [],
   "source": [
    "knn.fit(Xtrain, ytrain)"
   ]
  },
  {
   "cell_type": "code",
   "execution_count": 9,
   "metadata": {},
   "outputs": [
    {
     "name": "stdout",
     "output_type": "stream",
     "text": [
      "sepal length (cm)    5.1\n",
      "sepal width (cm)     3.8\n",
      "petal length (cm)    1.9\n",
      "petal width (cm)     0.4\n",
      "Name: 0, dtype: float64 [(117, 0.3605551275463988), (110, 0.41231056256176585), (22, 0.47958315233127163)]\n",
      "[0, 0, 0]\n",
      "sepal length (cm)    6.3\n",
      "sepal width (cm)     2.9\n",
      "petal length (cm)    5.6\n",
      "petal width (cm)     1.8\n",
      "Name: 1, dtype: float64 [(76, 0.24494897427831783), (1, 0.3316624790355402), (50, 0.38729833462074154)]\n",
      "[2, 2, 2]\n",
      "sepal length (cm)    5.4\n",
      "sepal width (cm)     3.9\n",
      "petal length (cm)    1.7\n",
      "petal width (cm)     0.4\n",
      "Name: 2, dtype: float64 [(45, 0.33166247903553986), (80, 0.3464101615137753), (89, 0.36055512754639896)]\n",
      "[0, 0, 0]\n",
      "sepal length (cm)    5.4\n",
      "sepal width (cm)     3.4\n",
      "petal length (cm)    1.7\n",
      "petal width (cm)     0.2\n",
      "Name: 3, dtype: float64 [(112, 0.282842712474619), (53, 0.3000000000000001), (80, 0.3605551275463991)]\n",
      "[0, 0, 0]\n",
      "sepal length (cm)    5.6\n",
      "sepal width (cm)     2.5\n",
      "petal length (cm)    3.9\n",
      "petal width (cm)     1.1\n",
      "Name: 4, dtype: float64 [(20, 0.2645751311064588), (51, 0.30000000000000016), (27, 0.360555127546399)]\n",
      "[1, 1, 1]\n",
      "sepal length (cm)    6.4\n",
      "sepal width (cm)     2.8\n",
      "petal length (cm)    5.6\n",
      "petal width (cm)     2.2\n",
      "Name: 5, dtype: float64 [(1, 0.10000000000000009), (43, 0.30000000000000016), (50, 0.43588989435406733)]\n",
      "[2, 2, 2]\n",
      "sepal length (cm)    5.0\n",
      "sepal width (cm)     3.2\n",
      "petal length (cm)    1.2\n",
      "petal width (cm)     0.2\n",
      "Name: 6, dtype: float64 [(28, 0.22360679774997877), (103, 0.3), (23, 0.31622776601683783)]\n",
      "[0, 0, 0]\n",
      "sepal length (cm)    5.8\n",
      "sepal width (cm)     2.8\n",
      "petal length (cm)    5.1\n",
      "petal width (cm)     2.4\n",
      "Name: 7, dtype: float64 [(68, 0.4898979485566353), (98, 0.5099019513592784), (102, 0.5099019513592784)]\n",
      "[2, 2, 2]\n",
      "sepal length (cm)    4.8\n",
      "sepal width (cm)     3.0\n",
      "petal length (cm)    1.4\n",
      "petal width (cm)     0.1\n",
      "Name: 8, dtype: float64 [(103, 0.1414213562373099), (60, 0.17320508075688812), (48, 0.19999999999999998)]\n",
      "[0, 0, 0]\n",
      "sepal length (cm)    6.8\n",
      "sepal width (cm)     2.8\n",
      "petal length (cm)    4.8\n",
      "petal width (cm)     1.4\n",
      "Name: 9, dtype: float64 [(104, 0.31622776601683816), (107, 0.346410161513776), (31, 0.3741657386773941)]\n",
      "[1, 1, 1]\n",
      "sepal length (cm)    7.2\n",
      "sepal width (cm)     3.0\n",
      "petal length (cm)    5.8\n",
      "petal width (cm)     1.6\n",
      "Name: 10, dtype: float64 [(93, 0.3464101615137756), (52, 0.5099019513592784), (105, 0.5196152422706635)]\n",
      "[2, 2, 2]\n",
      "sepal length (cm)    5.2\n",
      "sepal width (cm)     2.7\n",
      "petal length (cm)    3.9\n",
      "petal width (cm)     1.4\n",
      "Name: 11, dtype: float64 [(113, 0.5099019513592782), (24, 0.5477225575051655), (67, 0.556776436283002)]\n",
      "[1, 1, 1]\n",
      "sepal length (cm)    5.0\n",
      "sepal width (cm)     3.6\n",
      "petal length (cm)    1.4\n",
      "petal width (cm)     0.2\n",
      "Name: 12, dtype: float64 [(18, 0.14142135623730925), (69, 0.1414213562373093), (75, 0.17320508075688756)]\n",
      "[0, 0, 0]\n",
      "sepal length (cm)    6.4\n",
      "sepal width (cm)     3.1\n",
      "petal length (cm)    5.5\n",
      "petal width (cm)     1.8\n",
      "Name: 13, dtype: float64 [(76, 0.1414213562373093), (8, 0.3872983346207415), (1, 0.4358898943540675)]\n",
      "[2, 2, 2]\n",
      "sepal length (cm)    5.1\n",
      "sepal width (cm)     3.8\n",
      "petal length (cm)    1.5\n",
      "petal width (cm)     0.3\n",
      "Name: 14, dtype: float64 [(110, 0.14142135623730928), (117, 0.14142135623730953), (89, 0.2449489742783178)]\n",
      "[0, 0, 0]\n",
      "sepal length (cm)    5.5\n",
      "sepal width (cm)     2.3\n",
      "petal length (cm)    4.0\n",
      "petal width (cm)     1.3\n",
      "Name: 15, dtype: float64 [(20, 0.4358898943540673), (113, 0.45825756949558427), (33, 0.509901951359279)]\n",
      "[1, 1, 1]\n",
      "sepal length (cm)    5.2\n",
      "sepal width (cm)     3.4\n",
      "petal length (cm)    1.4\n",
      "petal width (cm)     0.2\n",
      "Name: 16, dtype: float64 [(53, 0.14142135623730964), (11, 0.14142135623730995), (69, 0.14142135623730995)]\n",
      "[0, 0, 0]\n",
      "sepal length (cm)    7.7\n",
      "sepal width (cm)     2.8\n",
      "petal length (cm)    6.7\n",
      "petal width (cm)     2.0\n",
      "Name: 17, dtype: float64 [(73, 0.4123105625617659), (114, 0.6082762530298225), (52, 0.6782329983125273)]\n",
      "[2, 2, 2]\n",
      "sepal length (cm)    5.8\n",
      "sepal width (cm)     2.6\n",
      "petal length (cm)    4.0\n",
      "petal width (cm)     1.2\n",
      "Name: 18, dtype: float64 [(51, 0.14142135623730964), (27, 0.24494897427831766), (67, 0.26457513110645864)]\n",
      "[1, 1, 1]\n",
      "sepal length (cm)    5.6\n",
      "sepal width (cm)     3.0\n",
      "petal length (cm)    4.1\n",
      "petal width (cm)     1.3\n",
      "Name: 19, dtype: float64 [(70, 0.1732050807568884), (109, 0.1732050807568884), (67, 0.22360679774997935)]\n",
      "[1, 1, 1]\n",
      "sepal length (cm)    7.6\n",
      "sepal width (cm)     3.0\n",
      "petal length (cm)    6.6\n",
      "petal width (cm)     2.1\n",
      "Name: 20, dtype: float64 [(114, 0.5291502622129179), (2, 0.5477225575051662), (73, 0.5477225575051664)]\n",
      "[2, 2, 2]\n",
      "sepal length (cm)    6.7\n",
      "sepal width (cm)     3.1\n",
      "petal length (cm)    4.7\n",
      "petal width (cm)     1.5\n",
      "Name: 21, dtype: float64 [(107, 0.2828427124746193), (104, 0.31622776601683833), (94, 0.3316624790355399)]\n",
      "[1, 1, 1]\n",
      "sepal length (cm)    5.4\n",
      "sepal width (cm)     3.0\n",
      "petal length (cm)    4.5\n",
      "petal width (cm)     1.5\n",
      "Name: 22, dtype: float64 [(58, 0.1999999999999993), (41, 0.412310562561766), (70, 0.47958315233127174)]\n",
      "[1, 1, 1]\n",
      "sepal length (cm)    7.9\n",
      "sepal width (cm)     3.8\n",
      "petal length (cm)    6.4\n",
      "petal width (cm)     2.0\n",
      "Name: 23, dtype: float64 [(83, 0.4123105625617661), (2, 0.9273618495495703), (93, 1.02469507659596)]\n",
      "[2, 2, 2]\n",
      "sepal length (cm)    7.2\n",
      "sepal width (cm)     3.6\n",
      "petal length (cm)    6.1\n",
      "petal width (cm)     2.5\n",
      "Name: 24, dtype: float64 [(9, 0.6324555320336759), (21, 0.6708203932499366), (116, 0.7071067811865474)]\n",
      "[2, 2, 2]\n",
      "sepal length (cm)    5.0\n",
      "sepal width (cm)     3.4\n",
      "petal length (cm)    1.6\n",
      "petal width (cm)     0.4\n",
      "Name: 25, dtype: float64 [(14, 0.1999999999999998), (22, 0.22360679774997896), (87, 0.22360679774997902)]\n",
      "[0, 0, 0]\n",
      "sepal length (cm)    5.5\n",
      "sepal width (cm)     2.5\n",
      "petal length (cm)    4.0\n",
      "petal width (cm)     1.3\n",
      "Name: 26, dtype: float64 [(113, 0.30000000000000016), (67, 0.374165738677394), (51, 0.3872983346207417)]\n",
      "[1, 1, 1]\n",
      "sepal length (cm)    6.7\n",
      "sepal width (cm)     3.1\n",
      "petal length (cm)    4.4\n",
      "petal width (cm)     1.4\n",
      "Name: 27, dtype: float64 [(61, 0.14142135623730995), (104, 0.3162277660168377), (37, 0.3464101615137753)]\n",
      "[1, 1, 1]\n",
      "sepal length (cm)    5.5\n",
      "sepal width (cm)     2.4\n",
      "petal length (cm)    3.8\n",
      "petal width (cm)     1.1\n",
      "Name: 28, dtype: float64 [(20, 0.1414213562373093), (30, 0.42426406871192857), (51, 0.447213595499958)]\n",
      "[1, 1, 1]\n",
      "sepal length (cm)    6.7\n",
      "sepal width (cm)     3.1\n",
      "petal length (cm)    5.6\n",
      "petal width (cm)     2.4\n",
      "Name: 29, dtype: float64 [(116, 0.24494897427831785), (21, 0.26457513110645947), (4, 0.34641016151377513)]\n",
      "[2, 2, 2]\n"
     ]
    }
   ],
   "source": [
    "pred = knn.predict(Xtest)"
   ]
  },
  {
   "cell_type": "code",
   "execution_count": 10,
   "metadata": {},
   "outputs": [
    {
     "data": {
      "text/plain": [
       "1.0"
      ]
     },
     "execution_count": 10,
     "metadata": {},
     "output_type": "execute_result"
    }
   ],
   "source": [
    "knn.calc_accuracy(ypred, ytest)"
   ]
  },
  {
   "cell_type": "code",
   "execution_count": null,
   "metadata": {},
   "outputs": [],
   "source": []
  },
  {
   "cell_type": "code",
   "execution_count": null,
   "metadata": {},
   "outputs": [],
   "source": []
  },
  {
   "cell_type": "code",
   "execution_count": null,
   "metadata": {},
   "outputs": [],
   "source": []
  },
  {
   "cell_type": "code",
   "execution_count": null,
   "metadata": {},
   "outputs": [],
   "source": []
  },
  {
   "cell_type": "code",
   "execution_count": null,
   "metadata": {},
   "outputs": [],
   "source": []
  },
  {
   "cell_type": "code",
   "execution_count": null,
   "metadata": {},
   "outputs": [],
   "source": []
  },
  {
   "cell_type": "code",
   "execution_count": null,
   "metadata": {},
   "outputs": [],
   "source": []
  }
 ],
 "metadata": {
  "kernelspec": {
   "display_name": "Python 3.10.0 64-bit",
   "language": "python",
   "name": "python3"
  },
  "language_info": {
   "codemirror_mode": {
    "name": "ipython",
    "version": 3
   },
   "file_extension": ".py",
   "mimetype": "text/x-python",
   "name": "python",
   "nbconvert_exporter": "python",
   "pygments_lexer": "ipython3",
   "version": "3.10.0"
  },
  "orig_nbformat": 4,
  "vscode": {
   "interpreter": {
    "hash": "8d8353be1dd092e57b3f2779bafc40fd4a1c87861698b48ff47a5f1df7325f59"
   }
  }
 },
 "nbformat": 4,
 "nbformat_minor": 2
}
